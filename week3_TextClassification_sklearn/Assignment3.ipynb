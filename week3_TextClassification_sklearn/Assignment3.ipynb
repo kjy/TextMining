{
 "cells": [
  {
   "cell_type": "markdown",
   "metadata": {},
   "source": [
    "---\n",
    "\n",
    "_You are currently looking at **version 1.0** of this notebook. To download notebooks and datafiles, as well as get help on Jupyter notebooks in the Coursera platform, visit the [Jupyter Notebook FAQ](https://www.coursera.org/learn/python-text-mining/resources/d9pwm) course resource._\n",
    "\n",
    "---"
   ]
  },
  {
   "cell_type": "markdown",
   "metadata": {},
   "source": [
    "# Assignment 3\n",
    "\n",
    "In this assignment you will explore text message data and create models to predict if a message is spam or not. "
   ]
  },
  {
   "cell_type": "code",
   "execution_count": 1,
   "metadata": {},
   "outputs": [
    {
     "data": {
      "text/html": [
       "<div>\n",
       "<style>\n",
       "    .dataframe thead tr:only-child th {\n",
       "        text-align: right;\n",
       "    }\n",
       "\n",
       "    .dataframe thead th {\n",
       "        text-align: left;\n",
       "    }\n",
       "\n",
       "    .dataframe tbody tr th {\n",
       "        vertical-align: top;\n",
       "    }\n",
       "</style>\n",
       "<table border=\"1\" class=\"dataframe\">\n",
       "  <thead>\n",
       "    <tr style=\"text-align: right;\">\n",
       "      <th></th>\n",
       "      <th>text</th>\n",
       "      <th>target</th>\n",
       "    </tr>\n",
       "  </thead>\n",
       "  <tbody>\n",
       "    <tr>\n",
       "      <th>0</th>\n",
       "      <td>Go until jurong point, crazy.. Available only ...</td>\n",
       "      <td>0</td>\n",
       "    </tr>\n",
       "    <tr>\n",
       "      <th>1</th>\n",
       "      <td>Ok lar... Joking wif u oni...</td>\n",
       "      <td>0</td>\n",
       "    </tr>\n",
       "    <tr>\n",
       "      <th>2</th>\n",
       "      <td>Free entry in 2 a wkly comp to win FA Cup fina...</td>\n",
       "      <td>1</td>\n",
       "    </tr>\n",
       "    <tr>\n",
       "      <th>3</th>\n",
       "      <td>U dun say so early hor... U c already then say...</td>\n",
       "      <td>0</td>\n",
       "    </tr>\n",
       "    <tr>\n",
       "      <th>4</th>\n",
       "      <td>Nah I don't think he goes to usf, he lives aro...</td>\n",
       "      <td>0</td>\n",
       "    </tr>\n",
       "    <tr>\n",
       "      <th>5</th>\n",
       "      <td>FreeMsg Hey there darling it's been 3 week's n...</td>\n",
       "      <td>1</td>\n",
       "    </tr>\n",
       "    <tr>\n",
       "      <th>6</th>\n",
       "      <td>Even my brother is not like to speak with me. ...</td>\n",
       "      <td>0</td>\n",
       "    </tr>\n",
       "    <tr>\n",
       "      <th>7</th>\n",
       "      <td>As per your request 'Melle Melle (Oru Minnamin...</td>\n",
       "      <td>0</td>\n",
       "    </tr>\n",
       "    <tr>\n",
       "      <th>8</th>\n",
       "      <td>WINNER!! As a valued network customer you have...</td>\n",
       "      <td>1</td>\n",
       "    </tr>\n",
       "    <tr>\n",
       "      <th>9</th>\n",
       "      <td>Had your mobile 11 months or more? U R entitle...</td>\n",
       "      <td>1</td>\n",
       "    </tr>\n",
       "  </tbody>\n",
       "</table>\n",
       "</div>"
      ],
      "text/plain": [
       "                                                text  target\n",
       "0  Go until jurong point, crazy.. Available only ...       0\n",
       "1                      Ok lar... Joking wif u oni...       0\n",
       "2  Free entry in 2 a wkly comp to win FA Cup fina...       1\n",
       "3  U dun say so early hor... U c already then say...       0\n",
       "4  Nah I don't think he goes to usf, he lives aro...       0\n",
       "5  FreeMsg Hey there darling it's been 3 week's n...       1\n",
       "6  Even my brother is not like to speak with me. ...       0\n",
       "7  As per your request 'Melle Melle (Oru Minnamin...       0\n",
       "8  WINNER!! As a valued network customer you have...       1\n",
       "9  Had your mobile 11 months or more? U R entitle...       1"
      ]
     },
     "execution_count": 1,
     "metadata": {},
     "output_type": "execute_result"
    }
   ],
   "source": [
    "import pandas as pd\n",
    "import numpy as np\n",
    "\n",
    "spam_data = pd.read_csv('spam.csv')\n",
    "\n",
    "spam_data['target'] = np.where(spam_data['target']=='spam',1,0)\n",
    "spam_data.head(10)"
   ]
  },
  {
   "cell_type": "code",
   "execution_count": 2,
   "metadata": {
    "collapsed": true
   },
   "outputs": [],
   "source": [
    "from sklearn.model_selection import train_test_split\n",
    "\n",
    "\n",
    "X_train, X_test, y_train, y_test = train_test_split(spam_data['text'], \n",
    "                                                    spam_data['target'], \n",
    "                                                    random_state=0)"
   ]
  },
  {
   "cell_type": "markdown",
   "metadata": {},
   "source": [
    "### Question 1\n",
    "What percentage of the documents in `spam_data` are spam?"
   ]
  },
  {
   "cell_type": "code",
   "execution_count": 3,
   "metadata": {
    "collapsed": true
   },
   "outputs": [],
   "source": [
    "def answer_one():\n",
    "    # examine the class distribution\n",
    "    # spam_data.target.value_counts().sort_index()\n",
    "    spam_count = spam_data.target.value_counts().sort_index()[1]\n",
    "    # print(spam_count)\n",
    "    total = len(spam_data.target)\n",
    "    # print(total)\n",
    "    percentage_texts_spam = spam_count/float(total) *100 \n",
    "    #Your answer here\n",
    "    return percentage_texts_spam"
   ]
  },
  {
   "cell_type": "code",
   "execution_count": 4,
   "metadata": {},
   "outputs": [
    {
     "data": {
      "text/plain": [
       "13.406317300789663"
      ]
     },
     "execution_count": 4,
     "metadata": {},
     "output_type": "execute_result"
    }
   ],
   "source": [
    "answer_one()"
   ]
  },
  {
   "cell_type": "markdown",
   "metadata": {},
   "source": [
    "### Question 2\n",
    "\n",
    "Fit the training data `X_train` using a Count Vectorizer with default parameters.\n",
    "\n",
    "What is the longest token in the vocabulary?\n",
    "\n",
    "*This function should return a string.*"
   ]
  },
  {
   "cell_type": "code",
   "execution_count": 5,
   "metadata": {
    "collapsed": true
   },
   "outputs": [],
   "source": [
    "from sklearn.feature_extraction.text import CountVectorizer\n",
    "\n",
    "def answer_two():\n",
    "    \n",
    "    # instantiate CountVectorizer\n",
    "    vect = CountVectorizer()\n",
    "    \n",
    "    # fit it to the training data\n",
    "    X_train_vect = vect.fit(X_train)\n",
    "    \n",
    "    # a list of strings\n",
    "    list1 = X_train_vect.get_feature_names()\n",
    "    \n",
    "    # make comparisons throughout the list to find the longest string\n",
    "    #longest_token = ''\n",
    "    #for i in range(len(list1)):\n",
    "    #    if len(list1[i]) > len(longest_token):\n",
    "    #        longest_token = list1[i]\n",
    "    \n",
    "    list2 = [len(i) for i in list1]  \n",
    "    max_length = max(list2)\n",
    "    index_pos = list2.index(max_length)\n",
    "    longest_token = list1[index_pos]       \n",
    "    #Your answer here\n",
    "    return longest_token"
   ]
  },
  {
   "cell_type": "code",
   "execution_count": 6,
   "metadata": {},
   "outputs": [
    {
     "data": {
      "text/plain": [
       "'com1win150ppmx3age16subscription'"
      ]
     },
     "execution_count": 6,
     "metadata": {},
     "output_type": "execute_result"
    }
   ],
   "source": [
    "answer_two()"
   ]
  },
  {
   "cell_type": "markdown",
   "metadata": {},
   "source": [
    "### Question 3\n",
    "\n",
    "Fit and transform the training data `X_train` using a Count Vectorizer with default parameters.\n",
    "\n",
    "Next, fit a fit a multinomial Naive Bayes classifier model with smoothing `alpha=0.1`. Find the area under the curve (AUC) score using the transformed test data.\n",
    "\n",
    "*This function should return the AUC score as a float.*"
   ]
  },
  {
   "cell_type": "code",
   "execution_count": 7,
   "metadata": {
    "collapsed": true
   },
   "outputs": [],
   "source": [
    "from sklearn.naive_bayes import MultinomialNB\n",
    "from sklearn.metrics import roc_auc_score\n",
    "\n",
    "def answer_three():\n",
    "    \n",
    "    # instantiate CountVectorizer\n",
    "    vect = CountVectorizer()\n",
    "    \n",
    "    # fit and transform training data set, X_train\n",
    "    X_train_transform = vect.fit_transform(X_train)\n",
    "    # X_train_transform.shape  # (4179, 7354)\n",
    "    \n",
    "    # import and instantiate MultinomialNB\n",
    "    #from sklearn.naive_bayes import MultinomialNB\n",
    "    #  class sklearn.naive_bayes.MultinomialNB(alpha=1.0, fit_prior=True, class_prior=None)\n",
    "    nb = MultinomialNB(alpha=0.1) # set smoothing parameter\n",
    "    \n",
    "    # train the model using X_train_transform\n",
    "    model = nb.fit(X_train_transform, y_train)\n",
    "    \n",
    "    # Predict the transformed X_test (do not fit test data set)\n",
    "    predictions = model.predict(vect.transform(X_test))\n",
    "    \n",
    "    #from sklearn.metrics import roc_auc_score\n",
    "    ans = roc_auc_score(y_test, predictions)\n",
    "    \n",
    "    #Your answer here\n",
    "    return ans"
   ]
  },
  {
   "cell_type": "code",
   "execution_count": 8,
   "metadata": {},
   "outputs": [
    {
     "data": {
      "text/plain": [
       "0.97208121827411165"
      ]
     },
     "execution_count": 8,
     "metadata": {},
     "output_type": "execute_result"
    }
   ],
   "source": [
    "answer_three()"
   ]
  },
  {
   "cell_type": "markdown",
   "metadata": {},
   "source": [
    "### Question 4\n",
    "\n",
    "Fit and transform the training data `X_train` using a Tfidf Vectorizer with default parameters.\n",
    "\n",
    "What 20 features have the smallest tf-idf and what 20 have the largest tf-idf?\n",
    "\n",
    "Put these features in a two series where each series is sorted by tf-idf value and then alphabetically by feature name. The index of the series should be the feature name, and the data should be the tf-idf.\n",
    "\n",
    "The series of 20 features with smallest tf-idfs should be sorted smallest tfidf first, the list of 20 features with largest tf-idfs should be sorted largest first. \n",
    "\n",
    "*This function should return a tuple of two series\n",
    "`(smallest tf-idfs series, largest tf-idfs series)`.*"
   ]
  },
  {
   "cell_type": "code",
   "execution_count": 9,
   "metadata": {
    "collapsed": true
   },
   "outputs": [],
   "source": [
    "from sklearn.feature_extraction.text import TfidfVectorizer\n",
    "\n",
    "def answer_four():\n",
    "\n",
    "    # rescale features, term frequency-inverse document frequency\n",
    "    vect = TfidfVectorizer().fit(X_train)\n",
    "    # vect\n",
    "    \"\"\"\n",
    "    TfidfVectorizer(analyzer='word', binary=False, decode_error='strict',\n",
    "        dtype=<class 'numpy.int64'>, encoding='utf-8', input='content',\n",
    "        lowercase=True, max_df=1.0, max_features=None, min_df=1,\n",
    "        ngram_range=(1, 1), norm='l2', preprocessor=None, smooth_idf=True,\n",
    "        stop_words=None, strip_accents=None, sublinear_tf=False,\n",
    "        token_pattern='(?u)\\\\b\\\\w\\\\w+\\\\b', tokenizer=None, use_idf=True,\n",
    "        vocabulary=None)\n",
    "    \"\"\"\n",
    "    \n",
    "    # gives you the tokens in a list of string words\n",
    "    feature_names = vect.get_feature_names()\n",
    "    # feature_names\n",
    "    \n",
    "    # Put feature names in numpy array\n",
    "    feature_names = np.array(vect.get_feature_names())\n",
    "    # feature_names\n",
    "    # len(feature_names)   # 7354\n",
    "    \n",
    "    # create a document-term matrix, bag-of-words representation, sparse matrix\n",
    "    X_train_transform = vect.transform(X_train)\n",
    "    # X_train_transform\n",
    "    \n",
    "    \"\"\"\n",
    "    <4179x7354 sparse matrix of type '<class 'numpy.float64'>'\n",
    "    with 55130 stored elements in Compressed Sparse Row format>\n",
    "    \"\"\"\n",
    "    \n",
    "    # put the tfidf scores in array format\n",
    "    tfidf_scores = X_train_transform.max(0).toarray()[0]\n",
    "    len(tfidf_scores)\n",
    "    \n",
    "    # Put the tf-idf scores in a panda series, using the feature names as index, sort ascending\n",
    "    result = pd.Series(tfidf_scores, index=feature_names).sort_values()\n",
    "    \n",
    "    # Smallest tf-idfs should be sorted smallest tfidf first\n",
    "    smallest = result.head(20)\n",
    "    \n",
    "    # Largest tf-idfs should be sorted largest first\n",
    "    largest = result.tail(20).sort_values(ascending=False)\n",
    "    \n",
    "    #Your answer here\n",
    "    return smallest, largest"
   ]
  },
  {
   "cell_type": "code",
   "execution_count": 10,
   "metadata": {},
   "outputs": [
    {
     "data": {
      "text/plain": [
       "(sympathetic     0.074475\n",
       " healer          0.074475\n",
       " aaniye          0.074475\n",
       " dependable      0.074475\n",
       " companion       0.074475\n",
       " listener        0.074475\n",
       " athletic        0.074475\n",
       " exterminator    0.074475\n",
       " psychiatrist    0.074475\n",
       " pest            0.074475\n",
       " determined      0.074475\n",
       " chef            0.074475\n",
       " courageous      0.074475\n",
       " stylist         0.074475\n",
       " psychologist    0.074475\n",
       " organizer       0.074475\n",
       " pudunga         0.074475\n",
       " venaam          0.074475\n",
       " diwali          0.091250\n",
       " mornings        0.091250\n",
       " dtype: float64, 146tf150p    1.000000\n",
       " havent       1.000000\n",
       " 645          1.000000\n",
       " done         1.000000\n",
       " too          1.000000\n",
       " anytime      1.000000\n",
       " beerage      1.000000\n",
       " where        1.000000\n",
       " ok           1.000000\n",
       " thank        1.000000\n",
       " yup          1.000000\n",
       " nite         1.000000\n",
       " lei          1.000000\n",
       " anything     1.000000\n",
       " er           1.000000\n",
       " thanx        1.000000\n",
       " okie         1.000000\n",
       " home         1.000000\n",
       " tick         0.980166\n",
       " blank        0.932702\n",
       " dtype: float64)"
      ]
     },
     "execution_count": 10,
     "metadata": {},
     "output_type": "execute_result"
    }
   ],
   "source": [
    "answer_four()"
   ]
  },
  {
   "cell_type": "markdown",
   "metadata": {},
   "source": [
    "### Question 5\n",
    "\n",
    "Fit and transform the training data `X_train` using a Tfidf Vectorizer ignoring terms that have a document frequency strictly lower than **3**.\n",
    "\n",
    "Then fit a multinomial Naive Bayes classifier model with smoothing `alpha=0.1` and compute the area under the curve (AUC) score using the transformed test data.\n",
    "\n",
    "*This function should return the AUC score as a float.*"
   ]
  },
  {
   "cell_type": "code",
   "execution_count": 11,
   "metadata": {
    "collapsed": true
   },
   "outputs": [],
   "source": [
    "def answer_five():\n",
    "    from sklearn.feature_extraction.text import TfidfVectorizer\n",
    "    \n",
    "    # Fit and transform the training data X_train using a Tfidf Vectorizer ignoring \n",
    "    # terms that have a document frequency strictly lower than 3\n",
    "    vect = TfidfVectorizer(min_df = 3).fit(X_train)\n",
    "    # len(vect.get_feature_names())\n",
    "    \n",
    "    X_train_vectorized = vect.transform(X_train)\n",
    "    \n",
    "    # import and instantiate MultinomialNB\n",
    "    #from sklearn.naive_bayes import MultinomialNB\n",
    "    #  class sklearn.naive_bayes.MultinomialNB(alpha=1.0, fit_prior=True, class_prior=None)\n",
    "    nb = MultinomialNB(alpha=0.1) # set smoothing parameter\n",
    "    \n",
    "    # train the model using X_train_transform\n",
    "    model = nb.fit(X_train_vectorized, y_train)\n",
    "    \n",
    "    # Predict the transformed X_test (do not fit test data set)\n",
    "    predictions = model.predict(vect.transform(X_test))\n",
    "    \n",
    "    #from sklearn.metrics import roc_auc_score\n",
    "    ans = roc_auc_score(y_test, predictions)\n",
    "    \n",
    "    #Your answer here\n",
    "    return ans\n",
    "\n"
   ]
  },
  {
   "cell_type": "code",
   "execution_count": 12,
   "metadata": {},
   "outputs": [
    {
     "data": {
      "text/plain": [
       "0.94162436548223349"
      ]
     },
     "execution_count": 12,
     "metadata": {},
     "output_type": "execute_result"
    }
   ],
   "source": [
    "answer_five()"
   ]
  },
  {
   "cell_type": "markdown",
   "metadata": {},
   "source": [
    "### Question 6\n",
    "\n",
    "What is the average length of documents (number of characters) for not spam and spam documents?\n",
    "\n",
    "*This function should return a tuple (average length not spam, average length spam).*"
   ]
  },
  {
   "cell_type": "code",
   "execution_count": 13,
   "metadata": {
    "collapsed": true
   },
   "outputs": [],
   "source": [
    "def answer_six():\n",
    "    \n",
    "    # Find index positions of spam\n",
    "    import numpy as np\n",
    "    x_ones = np.where(spam_data['target'] == 1)\n",
    "    #x_ones[0]\n",
    "    indexes_ones = [i for i in x_ones[0]]\n",
    "    #type(indexes_ones)\n",
    "    #indexes_ones\n",
    "    # Find index positions of not spam\n",
    "    x_zeros = np.where(spam_data['target'] == 0)\n",
    "    # x_zeros[0]\n",
    "    indexes_zeros = [i for i in x_zeros[0]]\n",
    "    #indexes_zeros\n",
    "    \n",
    "    # Find text messages for spam\n",
    "    spam_ones = spam_data.text[indexes_ones]\n",
    "    #spam_ones\n",
    "    \n",
    "    # Find text messages for not spam\n",
    "    spam_zeros = spam_data.text[indexes_zeros]\n",
    "    spam_zeros\n",
    "    \n",
    "    # Find length of text messages for spam/non-spam\n",
    "    spam_len_ones = [len(x) for x in spam_ones]\n",
    "    spam_len_zeros = [len(x) for x in spam_zeros]\n",
    "    \n",
    "    # calculate mean for spam texts and non-spam texts\n",
    "    \n",
    "    spam_mean_ones = np.mean(spam_len_ones)\n",
    "    spam_mean_zeros = np.mean(spam_len_zeros)\n",
    "    #print(spam_mean_ones)\n",
    "    #print(spam_mean_zeros)\n",
    "    \n",
    "    #Your answer here\n",
    "    return spam_mean_zeros, spam_mean_ones"
   ]
  },
  {
   "cell_type": "code",
   "execution_count": 14,
   "metadata": {},
   "outputs": [
    {
     "data": {
      "text/plain": [
       "(71.023626943005183, 138.8661311914324)"
      ]
     },
     "execution_count": 14,
     "metadata": {},
     "output_type": "execute_result"
    }
   ],
   "source": [
    "answer_six()"
   ]
  },
  {
   "cell_type": "markdown",
   "metadata": {},
   "source": [
    "<br>\n",
    "<br>\n",
    "The following function has been provided to help you combine new features into the training data:"
   ]
  },
  {
   "cell_type": "code",
   "execution_count": 15,
   "metadata": {
    "collapsed": true
   },
   "outputs": [],
   "source": [
    "def add_feature(X, feature_to_add):\n",
    "    \"\"\"\n",
    "    Returns sparse feature matrix with added feature.\n",
    "    feature_to_add can also be a list of features.\n",
    "    \"\"\"\n",
    "    from scipy.sparse import csr_matrix, hstack\n",
    "    return hstack([X, csr_matrix(feature_to_add).T], 'csr')"
   ]
  },
  {
   "cell_type": "markdown",
   "metadata": {},
   "source": [
    "### Question 7\n",
    "\n",
    "Fit and transform the training data X_train using a Tfidf Vectorizer ignoring terms that have a document frequency strictly lower than **5**.\n",
    "\n",
    "Using this document-term matrix and an additional feature, **the length of document (number of characters)**, fit a Support Vector Classification model with regularization `C=10000`. Then compute the area under the curve (AUC) score using the transformed test data.\n",
    "\n",
    "*This function should return the AUC score as a float.*"
   ]
  },
  {
   "cell_type": "code",
   "execution_count": 16,
   "metadata": {
    "collapsed": true
   },
   "outputs": [],
   "source": [
    "from sklearn.svm import SVC\n",
    "\n",
    "def answer_seven():\n",
    "        \n",
    "    # from sklearn.svm import SVC\n",
    "    # get the number of characters in text data for train data set\n",
    "    num_chars_train = X_train.str.len()\n",
    "\n",
    "\n",
    "    from sklearn.feature_extraction.text import TfidfVectorizer\n",
    "\n",
    "    # Fit and transform the training data X_train using a Tfidf Vectorizer ignoring \n",
    "    # terms that have a document frequency strictly lower than 5\n",
    "\n",
    "    # instantiate CountVectorizer for both train and test\n",
    "    vect = CountVectorizer(min_df = 5)\n",
    "\n",
    "\n",
    "    \"\"\"For training \"\"\"\n",
    "    # For training data, fit model\n",
    "    vect_train = vect.fit(X_train)\n",
    "\n",
    "    X_train_vectorized = vect_train.transform(X_train)\n",
    "\n",
    "    # Use add_feature function from above\n",
    "    X_train1 = add_feature(X_train_vectorized, num_chars_train)\n",
    "\n",
    "\n",
    "    # import and instantiate svm\n",
    "    from sklearn import svm\n",
    "    \n",
    "    # use default kernel = 'rbf'\n",
    "    clfrSVM = svm.SVC(C=10000)\n",
    "\n",
    "    # train the model using X_train1\n",
    "    model_svm = clfrSVM.fit(X_train1, y_train)\n",
    "\n",
    "    \"\"\"For testing \"\"\"\n",
    "\n",
    "    # get the number of characters in text data for test data set\n",
    "    num_chars_test = X_test.str.len()\n",
    "\n",
    "\n",
    "    # Do not fit test data set, only transform\n",
    "    X_test_vectorized = vect.transform(X_test)\n",
    "\n",
    "    # Remember to use add_feature function on test data as well\n",
    "    X_test_add = add_feature(X_test_vectorized, num_chars_test)\n",
    "\n",
    "    # Obtain predicted labels\n",
    "    predictions = model_svm.predict(X_test_add)\n",
    "\n",
    "\n",
    "    #from sklearn.metrics import roc_auc_score\n",
    "    ans = roc_auc_score(y_test, predictions)\n",
    "    \n",
    "    # #Your answer here\n",
    "    return ans"
   ]
  },
  {
   "cell_type": "code",
   "execution_count": 17,
   "metadata": {},
   "outputs": [
    {
     "data": {
      "text/plain": [
       "0.96407865473744969"
      ]
     },
     "execution_count": 17,
     "metadata": {},
     "output_type": "execute_result"
    }
   ],
   "source": [
    "answer_seven()"
   ]
  },
  {
   "cell_type": "markdown",
   "metadata": {},
   "source": [
    "### Question 8\n",
    "\n",
    "What is the average number of digits per document for not spam and spam documents?\n",
    "\n",
    "*This function should return a tuple (average # digits not spam, average # digits spam).*"
   ]
  },
  {
   "cell_type": "code",
   "execution_count": 18,
   "metadata": {
    "collapsed": true
   },
   "outputs": [],
   "source": [
    "def answer_eight():\n",
    "    \n",
    "    # use count with regex\n",
    "    #df.loc[df['A'] == \"foo\"]\n",
    "    spam_ave_digits = spam_data.loc[spam_data['target'] == 1,'text'].str.count('\\d').mean()\n",
    "    not_spam_ave_digits = spam_data.loc[spam_data['target']== 0,'text'].str.count('\\d').mean()\n",
    "    \n",
    "    #Your answer here\n",
    "    return not_spam_ave_digits, spam_ave_digits"
   ]
  },
  {
   "cell_type": "code",
   "execution_count": 19,
   "metadata": {},
   "outputs": [
    {
     "data": {
      "text/plain": [
       "(0.2992746113989637, 15.759036144578314)"
      ]
     },
     "execution_count": 19,
     "metadata": {},
     "output_type": "execute_result"
    }
   ],
   "source": [
    "answer_eight()"
   ]
  },
  {
   "cell_type": "markdown",
   "metadata": {},
   "source": [
    "### Question 9\n",
    "\n",
    "Fit and transform the training data `X_train` using a Tfidf Vectorizer ignoring terms that have a document frequency strictly lower than **5** and using **word n-grams from n=1 to n=3** (unigrams, bigrams, and trigrams).\n",
    "\n",
    "Using this document-term matrix and the following additional features:\n",
    "* the length of document (number of characters)\n",
    "* **number of digits per document**\n",
    "\n",
    "fit a Logistic Regression model with regularization `C=100`. Then compute the area under the curve (AUC) score using the transformed test data.\n",
    "\n",
    "*This function should return the AUC score as a float.*"
   ]
  },
  {
   "cell_type": "code",
   "execution_count": 32,
   "metadata": {
    "collapsed": true
   },
   "outputs": [],
   "source": [
    "from sklearn.linear_model import LogisticRegression\n",
    "\n",
    "def answer_nine():\n",
    "    from sklearn.feature_extraction.text import TfidfVectorizer\n",
    "\n",
    "    # get the number of characters in text data for train data set\n",
    "    spam_data['len_docs'] = spam_data['text'].str.len()\n",
    "\n",
    "    # use regular expression to find digits\n",
    "    import re\n",
    "\n",
    "    # number of digits per document (text)\n",
    "    spam_data['num_digits_doc'] = spam_data['text'].apply(lambda row:len(re.findall(r'(\\d)',row)))\n",
    "\n",
    "    # split data\n",
    "    X_train, X_test, y_train, y_test = train_test_split(\n",
    "    spam_data[['text', 'target', 'len_docs', 'num_digits_doc']], spam_data['target'], random_state=0)\n",
    "\n",
    "    # instantiate TfidfVectorizer\n",
    "    # document frequency strictly lower than 5 and using word \n",
    "    # n-grams from n=1 to n=3 (unigrams, bigrams, and trigrams)\n",
    "    vect = TfidfVectorizer(min_df=5, ngram_range=(1,3))\n",
    "\n",
    "    # Fit and transform the training data X_train using a Tfidf Vectorizer\n",
    "    vect_train = vect.fit(X_train['text'])\n",
    "\n",
    "    # Train data: Using this document-term matrix and the following additional features\n",
    "    X_train_vectorized = vect_train.transform(X_train['text'])\n",
    "\n",
    "    X_train_vectorized = add_feature(X_train_vectorized, X_train['len_docs'])\n",
    "\n",
    "    X_train_vectorized = add_feature(X_train_vectorized, X_train['num_digits_doc'])\n",
    "\n",
    "\n",
    "\n",
    "    # Test data: Using this document-term matrix and the following additional features\n",
    "    X_test_vectorized = vect.transform(X_test['text'])\n",
    "\n",
    "    X_test_vectorized = add_feature(X_test_vectorized, X_test['len_docs'])\n",
    "\n",
    "    X_test_vectorized = add_feature(X_test_vectorized, X_test['num_digits_doc'])  \n",
    "\n",
    "\n",
    "    #from sklearn.linear_model import LogisticRegression   \n",
    "\n",
    "    # fit a Logistic Regression model with regularization C=100\n",
    "    model = LogisticRegression(C=100)\n",
    "\n",
    "    model.fit(X_train_vectorized, y_train)\n",
    "\n",
    "    # obtain predicted labels\n",
    "    predictions = model.predict(X_test_vectorized)\n",
    "\n",
    "    # This function should return the AUC score as a float.               \n",
    "    from sklearn.metrics import roc_auc_score\n",
    "\n",
    "    ans = roc_auc_score(y_test, predictions)  \n",
    "    \n",
    "    #Your answer here\n",
    "    return ans"
   ]
  },
  {
   "cell_type": "code",
   "execution_count": 21,
   "metadata": {},
   "outputs": [
    {
     "data": {
      "text/plain": [
       "0.96533283533945646"
      ]
     },
     "execution_count": 21,
     "metadata": {},
     "output_type": "execute_result"
    }
   ],
   "source": [
    "answer_nine()"
   ]
  },
  {
   "cell_type": "markdown",
   "metadata": {},
   "source": [
    "### Question 10\n",
    "\n",
    "What is the average number of non-word characters (anything other than a letter, digit or underscore) per document for not spam and spam documents?\n",
    "\n",
    "*Hint: Use `\\w` and `\\W` character classes*\n",
    "\n",
    "*This function should return a tuple (average # non-word characters not spam, average # non-word characters spam).*"
   ]
  },
  {
   "cell_type": "code",
   "execution_count": 22,
   "metadata": {
    "collapsed": true
   },
   "outputs": [],
   "source": [
    "def answer_ten():\n",
    "    \n",
    "    spam_ave_nonwchar = spam_data.loc[spam_data['target']==1, 'text'].str.count('\\W').mean()\n",
    "    nonspam_ave_nonwchar = spam_data.loc[spam_data['target']==0, 'text'].str.count('\\W').mean()\n",
    "    \n",
    "    #Your answer here\n",
    "    return nonspam_ave_nonwchar, spam_ave_nonwchar"
   ]
  },
  {
   "cell_type": "code",
   "execution_count": 23,
   "metadata": {},
   "outputs": [
    {
     "data": {
      "text/plain": [
       "(17.29181347150259, 29.041499330655956)"
      ]
     },
     "execution_count": 23,
     "metadata": {},
     "output_type": "execute_result"
    }
   ],
   "source": [
    "answer_ten()"
   ]
  },
  {
   "cell_type": "markdown",
   "metadata": {},
   "source": [
    "### Question 11\n",
    "\n",
    "Fit and transform the training data X_train using a Count Vectorizer ignoring terms that have a document frequency strictly lower than **5** and using **character n-grams from n=2 to n=5.**\n",
    "\n",
    "To tell Count Vectorizer to use character n-grams pass in `analyzer='char_wb'` which creates character n-grams only from text inside word boundaries. This should make the model more robust to spelling mistakes.\n",
    "\n",
    "Using this document-term matrix and the following additional features:\n",
    "* the length of document (number of characters)\n",
    "* number of digits per document\n",
    "* **number of non-word characters (anything other than a letter, digit or underscore.)**\n",
    "\n",
    "fit a Logistic Regression model with regularization C=100. Then compute the area under the curve (AUC) score using the transformed test data.\n",
    "\n",
    "Also **find the 10 smallest and 10 largest coefficients from the model** and return them along with the AUC score in a tuple.\n",
    "\n",
    "The list of 10 smallest coefficients should be sorted smallest first, the list of 10 largest coefficients should be sorted largest first.\n",
    "\n",
    "The three features that were added to the document term matrix should have the following names should they appear in the list of coefficients:\n",
    "['length_of_doc', 'digit_count', 'non_word_char_count']\n",
    "\n",
    "*This function should return a tuple `(AUC score as a float, smallest coefs list, largest coefs list)`.*"
   ]
  },
  {
   "cell_type": "code",
   "execution_count": 33,
   "metadata": {
    "collapsed": true
   },
   "outputs": [],
   "source": [
    "def answer_eleven():\n",
    "    \n",
    "    from sklearn.feature_extraction.text import CountVectorizer\n",
    "\n",
    "    # get the number of characters in text data for train data set\n",
    "    spam_data['len_docs'] = spam_data['text'].str.len()\n",
    "\n",
    "    # use regular expression to find digits per doc and num of non-word characters\n",
    "    import re\n",
    "\n",
    "    # number of digits per document (text)\n",
    "    spam_data['digit_count'] = spam_data['text'].apply(lambda row:len(re.findall(r'(\\d)',row)))\n",
    "    \n",
    "    # number of non-word characters (anything other than a letter, digit or underscore.\n",
    "    spam_data['non_word_char_count'] = spam_data['text'].apply(lambda row:len(re.findall(r'(\\W)',row)))\n",
    "    \n",
    "    \n",
    "    # split data\n",
    "    X_train, X_test, y_train, y_test = train_test_split(\n",
    "    spam_data[['text', 'target', 'len_docs', 'digit_count', 'non_word_char_count']],spam_data['target'], random_state=0)\n",
    "\n",
    "    # instantiate CountVectorizer\n",
    "    # document frequency strictly lower than 5 and using word \n",
    "    # character n-grams from n=2 to n=5 (unigrams, bigrams, and trigrams)\n",
    "    vect = CountVectorizer(min_df=5, analyzer='char_wb', ngram_range=(2,5))\n",
    "\n",
    "    # Fit and transform the training data X_train using a Count Vectorizer\n",
    "    vect_train = vect.fit(X_train['text'])\n",
    "\n",
    "    # Train data: Using this document-term matrix and the following additional features\n",
    "    X_train_vectorized = vect_train.transform(X_train['text'])\n",
    "    \n",
    "    # add features to the sparse matrix\n",
    "    X_train_vectorized = add_feature(X_train_vectorized, X_train['len_docs'])\n",
    "\n",
    "    X_train_vectorized = add_feature(X_train_vectorized, X_train['digit_count'])\n",
    "    \n",
    "    X_train_vectorized = add_feature(X_train_vectorized, X_train['non_word_char_count'])\n",
    "\n",
    "\n",
    "\n",
    "    # Test data: Using this document-term matrix and the following additional features\n",
    "    X_test_vectorized = vect.transform(X_test['text'])\n",
    "    \n",
    "    # add features to the sparse matrix\n",
    "    X_test_vectorized = add_feature(X_test_vectorized, X_test['len_docs'])\n",
    "\n",
    "    X_test_vectorized = add_feature(X_test_vectorized, X_test['digit_count'])  \n",
    "    \n",
    "    X_test_vectorized = add_feature(X_test_vectorized, X_test['non_word_char_count']) \n",
    "\n",
    "\n",
    "    #from sklearn.linear_model import LogisticRegression   \n",
    "\n",
    "    # fit a Logistic Regression model with regularization C=100\n",
    "    model = LogisticRegression(C=100)\n",
    "\n",
    "    model.fit(X_train_vectorized, y_train) \n",
    "\n",
    "    # obtain predicted labels\n",
    "    predictions = model.predict(X_test_vectorized)  \n",
    "\n",
    "    # This function should return the AUC score as a float.               \n",
    "    from sklearn.metrics import roc_auc_score\n",
    "\n",
    "    ans = roc_auc_score(y_test, predictions) \n",
    "    \n",
    "    \n",
    "    feature_names = np.array(vect.get_feature_names()).tolist()\n",
    "    feature_names = feature_names + ['len_docs', 'digit_count', 'non_word_char_count']\n",
    "    # cast type from list back to array\n",
    "    feature_names = np.array(feature_names)\n",
    "\n",
    "    sorted_coef_index = model.coef_[0].argsort()\n",
    "    \n",
    "    smallest_coefs = feature_names[sorted_coef_index[:10]]\n",
    "    largest_coefs = feature_names[sorted_coef_index[:-11:-1]]\n",
    "    \n",
    "    # convert to list\n",
    "    smallest_coefs_list = smallest_coefs.tolist()\n",
    "    largest_coefs_list = largest_coefs.tolist()\n",
    "   \n",
    "    #Your answer here\n",
    "    return ans, smallest_coefs_list, largest_coefs_list"
   ]
  },
  {
   "cell_type": "code",
   "execution_count": 34,
   "metadata": {},
   "outputs": [
    {
     "data": {
      "text/plain": [
       "(0.97885931107074342,\n",
       " ['. ', '..', '? ', ' i', ' y', ' go', ':)', ' h', 'go', ' m'],\n",
       " ['digit_count', 'ne', 'ia', 'co', 'xt', ' ch', 'mob', ' x', 'ww', 'ar'])"
      ]
     },
     "execution_count": 34,
     "metadata": {},
     "output_type": "execute_result"
    }
   ],
   "source": [
    "answer_eleven()"
   ]
  },
  {
   "cell_type": "code",
   "execution_count": null,
   "metadata": {
    "collapsed": true
   },
   "outputs": [],
   "source": []
  }
 ],
 "metadata": {
  "coursera": {
   "course_slug": "python-text-mining",
   "graded_item_id": "Pn19K",
   "launcher_item_id": "y1juS",
   "part_id": "ctlgo"
  },
  "kernelspec": {
   "display_name": "Python 3",
   "language": "python",
   "name": "python3"
  },
  "language_info": {
   "codemirror_mode": {
    "name": "ipython",
    "version": 3
   },
   "file_extension": ".py",
   "mimetype": "text/x-python",
   "name": "python",
   "nbconvert_exporter": "python",
   "pygments_lexer": "ipython3",
   "version": "3.6.1"
  }
 },
 "nbformat": 4,
 "nbformat_minor": 2
}
